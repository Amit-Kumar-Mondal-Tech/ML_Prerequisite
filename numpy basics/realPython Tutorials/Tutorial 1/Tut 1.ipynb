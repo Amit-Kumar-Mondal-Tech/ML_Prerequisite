{
 "cells": [
  {
   "cell_type": "markdown",
   "id": "715bdc46",
   "metadata": {},
   "source": [
    "## NumPy Tutorial: Your First Steps Into Data Science in Python\n",
    "___\n",
    "[website link](https://realpython.com/numpy-tutorial/)"
   ]
  },
  {
   "cell_type": "code",
   "execution_count": 1,
   "id": "575ab264",
   "metadata": {},
   "outputs": [],
   "source": [
    "import pandas as pd\n",
    "import numpy as np"
   ]
  },
  {
   "cell_type": "code",
   "execution_count": 2,
   "id": "454d77c4",
   "metadata": {},
   "outputs": [],
   "source": [
    ">>> CURVE_CENTER = 80\n",
    ">>> grades = np.array([72, 35, 64, 88, 51, 90, 74, 12])\n",
    ">>> def curve(grades):\n",
    "...     average = grades.mean()\n",
    "...     change = CURVE_CENTER - average\n",
    "...     new_grades = grades + change\n",
    "...     return np.clip(new_grades, grades, 100)"
   ]
  },
  {
   "cell_type": "code",
   "execution_count": 3,
   "id": "326bfab3",
   "metadata": {},
   "outputs": [
    {
     "data": {
      "text/plain": [
       "array([ 91.25,  54.25,  83.25, 100.  ,  70.25, 100.  ,  93.25,  31.25])"
      ]
     },
     "execution_count": 3,
     "metadata": {},
     "output_type": "execute_result"
    }
   ],
   "source": [
    "curve(grades)"
   ]
  },
  {
   "cell_type": "code",
   "execution_count": 4,
   "id": "38f6a314",
   "metadata": {},
   "outputs": [
    {
     "data": {
      "text/plain": [
       "array([[[29.3, 42.1, 18.8],\n",
       "        [16.1, 38. , 12.5]],\n",
       "\n",
       "       [[12.6, 49.9, 38.6],\n",
       "        [31.3,  9.2, 22.2]]])"
      ]
     },
     "execution_count": 4,
     "metadata": {},
     "output_type": "execute_result"
    }
   ],
   "source": [
    "temperatures = np.array([\n",
    "   ...:     29.3, 42.1, 18.8, 16.1, 38.0, 12.5,\n",
    "   ...:     12.6, 49.9, 38.6, 31.3, 9.2, 22.2\n",
    "   ...: ]).reshape(2, 2, 3)\n",
    "temperatures"
   ]
  },
  {
   "cell_type": "code",
   "execution_count": 5,
   "id": "6d1e157c",
   "metadata": {},
   "outputs": [
    {
     "data": {
      "text/plain": [
       "(2, 2, 3)"
      ]
     },
     "execution_count": 5,
     "metadata": {},
     "output_type": "execute_result"
    }
   ],
   "source": [
    "temperatures.shape"
   ]
  },
  {
   "cell_type": "code",
   "execution_count": 6,
   "id": "f44da1b1",
   "metadata": {},
   "outputs": [
    {
     "data": {
      "text/plain": [
       "array([[[29.3, 16.1],\n",
       "        [42.1, 38. ],\n",
       "        [18.8, 12.5]],\n",
       "\n",
       "       [[12.6, 31.3],\n",
       "        [49.9,  9.2],\n",
       "        [38.6, 22.2]]])"
      ]
     },
     "execution_count": 6,
     "metadata": {},
     "output_type": "execute_result"
    }
   ],
   "source": [
    "np.swapaxes(temperatures, 1, 2)"
   ]
  },
  {
   "cell_type": "code",
   "execution_count": 7,
   "id": "6936a2ec",
   "metadata": {},
   "outputs": [
    {
     "data": {
      "text/plain": [
       "numpy.ndarray"
      ]
     },
     "execution_count": 7,
     "metadata": {},
     "output_type": "execute_result"
    }
   ],
   "source": [
    "type(temperatures)"
   ]
  },
  {
   "cell_type": "code",
   "execution_count": 8,
   "id": "5667b9bd",
   "metadata": {},
   "outputs": [
    {
     "data": {
      "text/plain": [
       "array([[[29.3, 12.6],\n",
       "        [16.1, 31.3]],\n",
       "\n",
       "       [[42.1, 49.9],\n",
       "        [38. ,  9.2]],\n",
       "\n",
       "       [[18.8, 38.6],\n",
       "        [12.5, 22.2]]])"
      ]
     },
     "execution_count": 8,
     "metadata": {},
     "output_type": "execute_result"
    }
   ],
   "source": [
    "np.swapaxes(temperatures, 0, 2)"
   ]
  },
  {
   "cell_type": "code",
   "execution_count": 9,
   "id": "9ef6920b",
   "metadata": {},
   "outputs": [
    {
     "data": {
      "text/plain": [
       "49.9"
      ]
     },
     "execution_count": 9,
     "metadata": {},
     "output_type": "execute_result"
    }
   ],
   "source": [
    "temperatures.max()"
   ]
  },
  {
   "cell_type": "code",
   "execution_count": 13,
   "id": "be1c19c7",
   "metadata": {},
   "outputs": [],
   "source": [
    "table = np.array([\n",
    "   ...:     [5, 3, 7, 1],\n",
    "   ...:     [2, 6, 7 ,9],\n",
    "   ...:     [1, 1, 1, 1],\n",
    "   ...:     [4, 3, 2, 0],\n",
    "   ...: ])"
   ]
  },
  {
   "cell_type": "code",
   "execution_count": 14,
   "id": "46a4bcd2",
   "metadata": {},
   "outputs": [
    {
     "data": {
      "text/plain": [
       "9"
      ]
     },
     "execution_count": 14,
     "metadata": {},
     "output_type": "execute_result"
    }
   ],
   "source": [
    "table.max()"
   ]
  },
  {
   "cell_type": "code",
   "execution_count": null,
   "id": "f93f090f",
   "metadata": {},
   "outputs": [],
   "source": []
  },
  {
   "cell_type": "code",
   "execution_count": null,
   "id": "76ba8410",
   "metadata": {},
   "outputs": [],
   "source": []
  },
  {
   "cell_type": "code",
   "execution_count": null,
   "id": "c6a1e708",
   "metadata": {},
   "outputs": [],
   "source": []
  },
  {
   "cell_type": "code",
   "execution_count": null,
   "id": "3027b89e",
   "metadata": {},
   "outputs": [],
   "source": []
  },
  {
   "cell_type": "code",
   "execution_count": null,
   "id": "d7fdde84",
   "metadata": {},
   "outputs": [],
   "source": []
  },
  {
   "cell_type": "code",
   "execution_count": null,
   "id": "0053884e",
   "metadata": {},
   "outputs": [],
   "source": []
  },
  {
   "cell_type": "code",
   "execution_count": null,
   "id": "e69e80d6",
   "metadata": {},
   "outputs": [],
   "source": []
  },
  {
   "cell_type": "code",
   "execution_count": null,
   "id": "50ef3b5a",
   "metadata": {},
   "outputs": [],
   "source": []
  }
 ],
 "metadata": {
  "kernelspec": {
   "display_name": "Python 3",
   "language": "python",
   "name": "python3"
  },
  "language_info": {
   "codemirror_mode": {
    "name": "ipython",
    "version": 3
   },
   "file_extension": ".py",
   "mimetype": "text/x-python",
   "name": "python",
   "nbconvert_exporter": "python",
   "pygments_lexer": "ipython3",
   "version": "3.8.5"
  }
 },
 "nbformat": 4,
 "nbformat_minor": 5
}
